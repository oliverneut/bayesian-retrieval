{
 "cells": [
  {
   "cell_type": "code",
   "execution_count": null,
   "id": "9b77b044-1b1a-4a31-a664-22fcee0e38ec",
   "metadata": {},
   "outputs": [],
   "source": [
    "import torch\n",
    "\n",
    "from bret.data_loaders import (\n",
    "    GenericDataLoader,\n",
    "    get_text_dataloader,\n",
    "    get_training_dataloader,\n",
    ")\n",
    "from bret.models import model_factory"
   ]
  },
  {
   "cell_type": "code",
   "execution_count": null,
   "id": "d61cd103-bf54-467f-8d92-ab56131464b1",
   "metadata": {},
   "outputs": [],
   "source": [
    "device = torch.device(\"cuda\") if torch.cuda.is_available() else torch.device(\"cpu\")\n",
    "train_dl = get_training_dataloader(\"../data/msmarco-train.jsonl\", batch_size=32, shuffle=True)\n",
    "tokenizer, model = model_factory(\"distilbert-base-msmarco-tasb\", \"dpr\", device)"
   ]
  },
  {
   "cell_type": "code",
   "execution_count": null,
   "id": "e9cd3299-f459-421c-8807-93e2a0e3dd40",
   "metadata": {},
   "outputs": [],
   "source": [
    "for train_sample in train_dl:\n",
    "    qry, pos, neg = train_sample\n",
    "    break"
   ]
  }
 ],
 "metadata": {
  "kernelspec": {
   "display_name": "Python 3 (ipykernel)",
   "language": "python",
   "name": "python3"
  },
  "language_info": {
   "codemirror_mode": {
    "name": "ipython",
    "version": 3
   },
   "file_extension": ".py",
   "mimetype": "text/x-python",
   "name": "python",
   "nbconvert_exporter": "python",
   "pygments_lexer": "ipython3",
   "version": "3.12.8"
  }
 },
 "nbformat": 4,
 "nbformat_minor": 5
}
