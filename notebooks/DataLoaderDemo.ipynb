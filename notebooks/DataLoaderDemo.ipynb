{
 "cells": [
  {
   "cell_type": "code",
   "execution_count": 1,
   "id": "9b77b044-1b1a-4a31-a664-22fcee0e38ec",
   "metadata": {},
   "outputs": [],
   "source": [
    "import torch\n",
    "\n",
    "from bret.data_loaders import (\n",
    "    GenericDataLoader,\n",
    "    get_text_dataloader,\n",
    "    get_training_dataloader,\n",
    ")\n",
    "from bret.models import model_factory"
   ]
  },
  {
   "cell_type": "code",
   "execution_count": 2,
   "id": "d61cd103-bf54-467f-8d92-ab56131464b1",
   "metadata": {},
   "outputs": [
    {
     "data": {
      "application/vnd.jupyter.widget-view+json": {
       "model_id": "d2c40ac21c194f89adf6b231b1faaf2f",
       "version_major": 2,
       "version_minor": 0
      },
      "text/plain": [
       "Loading dataset shards:   0%|          | 0/37 [00:00<?, ?it/s]"
      ]
     },
     "metadata": {},
     "output_type": "display_data"
    },
    {
     "name": "stderr",
     "output_type": "stream",
     "text": [
      "/Users/pefstrauva.nl/miniconda3/envs/bret/lib/python3.12/site-packages/huggingface_hub/file_download.py:795: FutureWarning: `resume_download` is deprecated and will be removed in version 1.0.0. Downloads always resume when possible. If you want to force a new download, use `force_download=True`.\n",
      "  warnings.warn(\n"
     ]
    }
   ],
   "source": [
    "device = torch.device(\"cuda\") if torch.cuda.is_available() else torch.device(\"cpu\")\n",
    "train_dl = get_training_dataloader(\"../data/msmarco-train.jsonl\", batch_size=32, shuffle=True)\n",
    "tokenizer, model = model_factory(\"distilbert-base-msmarco-tasb\", \"dpr\", device)"
   ]
  },
  {
   "cell_type": "code",
   "execution_count": 3,
   "id": "e9cd3299-f459-421c-8807-93e2a0e3dd40",
   "metadata": {},
   "outputs": [],
   "source": [
    "for train_sample in train_dl:\n",
    "    qry, pos, neg = train_sample\n",
    "    break"
   ]
  }
 ],
 "metadata": {
  "kernelspec": {
   "display_name": "Python 3 (ipykernel)",
   "language": "python",
   "name": "python3"
  },
  "language_info": {
   "codemirror_mode": {
    "name": "ipython",
    "version": 3
   },
   "file_extension": ".py",
   "mimetype": "text/x-python",
   "name": "python",
   "nbconvert_exporter": "python",
   "pygments_lexer": "ipython3",
   "version": "3.12.8"
  }
 },
 "nbformat": 4,
 "nbformat_minor": 5
}
